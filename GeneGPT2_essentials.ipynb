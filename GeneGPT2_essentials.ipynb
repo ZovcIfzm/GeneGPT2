{
  "nbformat": 4,
  "nbformat_minor": 0,
  "metadata": {
    "colab": {
      "name": "GeneGPT2 essentials",
      "provenance": [],
      "collapsed_sections": []
    },
    "kernelspec": {
      "name": "python3",
      "display_name": "Python 3"
    },
    "accelerator": "GPU",
    "widgets": {
      "application/vnd.jupyter.widget-state+json": {
        "f229ec20394b4d268ba3fe098fc3e776": {
          "model_module": "@jupyter-widgets/controls",
          "model_name": "HBoxModel",
          "model_module_version": "1.5.0",
          "state": {
            "_view_name": "HBoxView",
            "_dom_classes": [],
            "_model_name": "HBoxModel",
            "_view_module": "@jupyter-widgets/controls",
            "_model_module_version": "1.5.0",
            "_view_count": null,
            "_view_module_version": "1.5.0",
            "box_style": "",
            "layout": "IPY_MODEL_9c2a376040604568b837727de2977098",
            "_model_module": "@jupyter-widgets/controls",
            "children": [
              "IPY_MODEL_31c9c0bfb30d49ffa09dde41179cbe36",
              "IPY_MODEL_ed8ba667e9fe40e89b57e568e1f91f18",
              "IPY_MODEL_09920f9e466b4b6b9fef010bfbde5070"
            ]
          }
        },
        "9c2a376040604568b837727de2977098": {
          "model_module": "@jupyter-widgets/base",
          "model_name": "LayoutModel",
          "model_module_version": "1.2.0",
          "state": {
            "_view_name": "LayoutView",
            "grid_template_rows": null,
            "right": null,
            "justify_content": null,
            "_view_module": "@jupyter-widgets/base",
            "overflow": null,
            "_model_module_version": "1.2.0",
            "_view_count": null,
            "flex_flow": "row wrap",
            "width": "100%",
            "min_width": null,
            "border": null,
            "align_items": null,
            "bottom": null,
            "_model_module": "@jupyter-widgets/base",
            "top": null,
            "grid_column": null,
            "overflow_y": null,
            "overflow_x": null,
            "grid_auto_flow": null,
            "grid_area": null,
            "grid_template_columns": null,
            "flex": null,
            "_model_name": "LayoutModel",
            "justify_items": null,
            "grid_row": null,
            "max_height": null,
            "align_content": null,
            "visibility": null,
            "align_self": null,
            "height": null,
            "min_height": null,
            "padding": null,
            "grid_auto_rows": null,
            "grid_gap": null,
            "max_width": null,
            "order": null,
            "_view_module_version": "1.2.0",
            "grid_template_areas": null,
            "object_position": null,
            "object_fit": null,
            "grid_auto_columns": null,
            "margin": null,
            "display": "inline-flex",
            "left": null
          }
        },
        "31c9c0bfb30d49ffa09dde41179cbe36": {
          "model_module": "@jupyter-widgets/controls",
          "model_name": "HTMLModel",
          "model_module_version": "1.5.0",
          "state": {
            "_view_name": "HTMLView",
            "style": "IPY_MODEL_47b12996f79d46f18a5d2b29424a009e",
            "_dom_classes": [],
            "description": "",
            "_model_name": "HTMLModel",
            "placeholder": "​",
            "_view_module": "@jupyter-widgets/controls",
            "_model_module_version": "1.5.0",
            "value": "100%",
            "_view_count": null,
            "_view_module_version": "1.5.0",
            "description_tooltip": null,
            "_model_module": "@jupyter-widgets/controls",
            "layout": "IPY_MODEL_f3f7f27d13574b2a84c52ff4a8d1b7ec"
          }
        },
        "ed8ba667e9fe40e89b57e568e1f91f18": {
          "model_module": "@jupyter-widgets/controls",
          "model_name": "FloatProgressModel",
          "model_module_version": "1.5.0",
          "state": {
            "_view_name": "ProgressView",
            "style": "IPY_MODEL_d848c9e75cbb4286a11e1dda8235c027",
            "_dom_classes": [],
            "description": "",
            "_model_name": "FloatProgressModel",
            "bar_style": "success",
            "max": 800,
            "_view_module": "@jupyter-widgets/controls",
            "_model_module_version": "1.5.0",
            "value": 800,
            "_view_count": null,
            "_view_module_version": "1.5.0",
            "orientation": "horizontal",
            "min": 0,
            "description_tooltip": null,
            "_model_module": "@jupyter-widgets/controls",
            "layout": "IPY_MODEL_c15b9d3917654de4aa41d1ae0d867dff"
          }
        },
        "09920f9e466b4b6b9fef010bfbde5070": {
          "model_module": "@jupyter-widgets/controls",
          "model_name": "HTMLModel",
          "model_module_version": "1.5.0",
          "state": {
            "_view_name": "HTMLView",
            "style": "IPY_MODEL_4c3d8196051741009b5032cae617bb36",
            "_dom_classes": [],
            "description": "",
            "_model_name": "HTMLModel",
            "placeholder": "​",
            "_view_module": "@jupyter-widgets/controls",
            "_model_module_version": "1.5.0",
            "value": " 800/800 [00:00&lt;00:00, 1960.49it/s]",
            "_view_count": null,
            "_view_module_version": "1.5.0",
            "description_tooltip": null,
            "_model_module": "@jupyter-widgets/controls",
            "layout": "IPY_MODEL_b3ca439bc04e437398e29f30d8599ef5"
          }
        },
        "47b12996f79d46f18a5d2b29424a009e": {
          "model_module": "@jupyter-widgets/controls",
          "model_name": "DescriptionStyleModel",
          "model_module_version": "1.5.0",
          "state": {
            "_view_name": "StyleView",
            "_model_name": "DescriptionStyleModel",
            "description_width": "",
            "_view_module": "@jupyter-widgets/base",
            "_model_module_version": "1.5.0",
            "_view_count": null,
            "_view_module_version": "1.2.0",
            "_model_module": "@jupyter-widgets/controls"
          }
        },
        "f3f7f27d13574b2a84c52ff4a8d1b7ec": {
          "model_module": "@jupyter-widgets/base",
          "model_name": "LayoutModel",
          "model_module_version": "1.2.0",
          "state": {
            "_view_name": "LayoutView",
            "grid_template_rows": null,
            "right": null,
            "justify_content": null,
            "_view_module": "@jupyter-widgets/base",
            "overflow": null,
            "_model_module_version": "1.2.0",
            "_view_count": null,
            "flex_flow": null,
            "width": null,
            "min_width": null,
            "border": null,
            "align_items": null,
            "bottom": null,
            "_model_module": "@jupyter-widgets/base",
            "top": null,
            "grid_column": null,
            "overflow_y": null,
            "overflow_x": null,
            "grid_auto_flow": null,
            "grid_area": null,
            "grid_template_columns": null,
            "flex": null,
            "_model_name": "LayoutModel",
            "justify_items": null,
            "grid_row": null,
            "max_height": null,
            "align_content": null,
            "visibility": null,
            "align_self": null,
            "height": null,
            "min_height": null,
            "padding": null,
            "grid_auto_rows": null,
            "grid_gap": null,
            "max_width": null,
            "order": null,
            "_view_module_version": "1.2.0",
            "grid_template_areas": null,
            "object_position": null,
            "object_fit": null,
            "grid_auto_columns": null,
            "margin": null,
            "display": null,
            "left": null
          }
        },
        "d848c9e75cbb4286a11e1dda8235c027": {
          "model_module": "@jupyter-widgets/controls",
          "model_name": "ProgressStyleModel",
          "model_module_version": "1.5.0",
          "state": {
            "_view_name": "StyleView",
            "_model_name": "ProgressStyleModel",
            "description_width": "",
            "_view_module": "@jupyter-widgets/base",
            "_model_module_version": "1.5.0",
            "_view_count": null,
            "_view_module_version": "1.2.0",
            "bar_color": null,
            "_model_module": "@jupyter-widgets/controls"
          }
        },
        "c15b9d3917654de4aa41d1ae0d867dff": {
          "model_module": "@jupyter-widgets/base",
          "model_name": "LayoutModel",
          "model_module_version": "1.2.0",
          "state": {
            "_view_name": "LayoutView",
            "grid_template_rows": null,
            "right": null,
            "justify_content": null,
            "_view_module": "@jupyter-widgets/base",
            "overflow": null,
            "_model_module_version": "1.2.0",
            "_view_count": null,
            "flex_flow": null,
            "width": null,
            "min_width": null,
            "border": null,
            "align_items": null,
            "bottom": null,
            "_model_module": "@jupyter-widgets/base",
            "top": null,
            "grid_column": null,
            "overflow_y": null,
            "overflow_x": null,
            "grid_auto_flow": null,
            "grid_area": null,
            "grid_template_columns": null,
            "flex": "2",
            "_model_name": "LayoutModel",
            "justify_items": null,
            "grid_row": null,
            "max_height": null,
            "align_content": null,
            "visibility": null,
            "align_self": null,
            "height": null,
            "min_height": null,
            "padding": null,
            "grid_auto_rows": null,
            "grid_gap": null,
            "max_width": null,
            "order": null,
            "_view_module_version": "1.2.0",
            "grid_template_areas": null,
            "object_position": null,
            "object_fit": null,
            "grid_auto_columns": null,
            "margin": null,
            "display": null,
            "left": null
          }
        },
        "4c3d8196051741009b5032cae617bb36": {
          "model_module": "@jupyter-widgets/controls",
          "model_name": "DescriptionStyleModel",
          "model_module_version": "1.5.0",
          "state": {
            "_view_name": "StyleView",
            "_model_name": "DescriptionStyleModel",
            "description_width": "",
            "_view_module": "@jupyter-widgets/base",
            "_model_module_version": "1.5.0",
            "_view_count": null,
            "_view_module_version": "1.2.0",
            "_model_module": "@jupyter-widgets/controls"
          }
        },
        "b3ca439bc04e437398e29f30d8599ef5": {
          "model_module": "@jupyter-widgets/base",
          "model_name": "LayoutModel",
          "model_module_version": "1.2.0",
          "state": {
            "_view_name": "LayoutView",
            "grid_template_rows": null,
            "right": null,
            "justify_content": null,
            "_view_module": "@jupyter-widgets/base",
            "overflow": null,
            "_model_module_version": "1.2.0",
            "_view_count": null,
            "flex_flow": null,
            "width": null,
            "min_width": null,
            "border": null,
            "align_items": null,
            "bottom": null,
            "_model_module": "@jupyter-widgets/base",
            "top": null,
            "grid_column": null,
            "overflow_y": null,
            "overflow_x": null,
            "grid_auto_flow": null,
            "grid_area": null,
            "grid_template_columns": null,
            "flex": null,
            "_model_name": "LayoutModel",
            "justify_items": null,
            "grid_row": null,
            "max_height": null,
            "align_content": null,
            "visibility": null,
            "align_self": null,
            "height": null,
            "min_height": null,
            "padding": null,
            "grid_auto_rows": null,
            "grid_gap": null,
            "max_width": null,
            "order": null,
            "_view_module_version": "1.2.0",
            "grid_template_areas": null,
            "object_position": null,
            "object_fit": null,
            "grid_auto_columns": null,
            "margin": null,
            "display": null,
            "left": null
          }
        },
        "cd5d57565e8341999044387c3c6624ec": {
          "model_module": "@jupyter-widgets/controls",
          "model_name": "HBoxModel",
          "model_module_version": "1.5.0",
          "state": {
            "_view_name": "HBoxView",
            "_dom_classes": [],
            "_model_name": "HBoxModel",
            "_view_module": "@jupyter-widgets/controls",
            "_model_module_version": "1.5.0",
            "_view_count": null,
            "_view_module_version": "1.5.0",
            "box_style": "",
            "layout": "IPY_MODEL_30ca616a0771455cada44e695b5b1d85",
            "_model_module": "@jupyter-widgets/controls",
            "children": [
              "IPY_MODEL_954a0ac1b2134e22b8c382215f137bd2",
              "IPY_MODEL_58990faa7f0b4a69b769f26cab63f0f6",
              "IPY_MODEL_4e7ee13d432149cebd8aac3cb1949736"
            ]
          }
        },
        "30ca616a0771455cada44e695b5b1d85": {
          "model_module": "@jupyter-widgets/base",
          "model_name": "LayoutModel",
          "model_module_version": "1.2.0",
          "state": {
            "_view_name": "LayoutView",
            "grid_template_rows": null,
            "right": null,
            "justify_content": null,
            "_view_module": "@jupyter-widgets/base",
            "overflow": null,
            "_model_module_version": "1.2.0",
            "_view_count": null,
            "flex_flow": "row wrap",
            "width": "100%",
            "min_width": null,
            "border": null,
            "align_items": null,
            "bottom": null,
            "_model_module": "@jupyter-widgets/base",
            "top": null,
            "grid_column": null,
            "overflow_y": null,
            "overflow_x": null,
            "grid_auto_flow": null,
            "grid_area": null,
            "grid_template_columns": null,
            "flex": null,
            "_model_name": "LayoutModel",
            "justify_items": null,
            "grid_row": null,
            "max_height": null,
            "align_content": null,
            "visibility": null,
            "align_self": null,
            "height": null,
            "min_height": null,
            "padding": null,
            "grid_auto_rows": null,
            "grid_gap": null,
            "max_width": null,
            "order": null,
            "_view_module_version": "1.2.0",
            "grid_template_areas": null,
            "object_position": null,
            "object_fit": null,
            "grid_auto_columns": null,
            "margin": null,
            "display": "inline-flex",
            "left": null
          }
        },
        "954a0ac1b2134e22b8c382215f137bd2": {
          "model_module": "@jupyter-widgets/controls",
          "model_name": "HTMLModel",
          "model_module_version": "1.5.0",
          "state": {
            "_view_name": "HTMLView",
            "style": "IPY_MODEL_3f6224064a894d99b7d6959e1f0dcb53",
            "_dom_classes": [],
            "description": "",
            "_model_name": "HTMLModel",
            "placeholder": "​",
            "_view_module": "@jupyter-widgets/controls",
            "_model_module_version": "1.5.0",
            "value": "Loss: 4.360 — Avg: 4.389 — GPU Mem: 959 MB: 100%",
            "_view_count": null,
            "_view_module_version": "1.5.0",
            "description_tooltip": null,
            "_model_module": "@jupyter-widgets/controls",
            "layout": "IPY_MODEL_2833686eac43439d94bb4cbe2838c226"
          }
        },
        "58990faa7f0b4a69b769f26cab63f0f6": {
          "model_module": "@jupyter-widgets/controls",
          "model_name": "FloatProgressModel",
          "model_module_version": "1.5.0",
          "state": {
            "_view_name": "ProgressView",
            "style": "IPY_MODEL_58ca887a65b94ffd8dea2d3fcf44fe3a",
            "_dom_classes": [],
            "description": "",
            "_model_name": "FloatProgressModel",
            "bar_style": "success",
            "max": 1000,
            "_view_module": "@jupyter-widgets/controls",
            "_model_module_version": "1.5.0",
            "value": 1000,
            "_view_count": null,
            "_view_module_version": "1.5.0",
            "orientation": "horizontal",
            "min": 0,
            "description_tooltip": null,
            "_model_module": "@jupyter-widgets/controls",
            "layout": "IPY_MODEL_ab9c36603178414e8743b9ecf04b444d"
          }
        },
        "4e7ee13d432149cebd8aac3cb1949736": {
          "model_module": "@jupyter-widgets/controls",
          "model_name": "HTMLModel",
          "model_module_version": "1.5.0",
          "state": {
            "_view_name": "HTMLView",
            "style": "IPY_MODEL_f268dc1c238f4088bda8cdaaf6dfce1a",
            "_dom_classes": [],
            "description": "",
            "_model_name": "HTMLModel",
            "placeholder": "​",
            "_view_module": "@jupyter-widgets/controls",
            "_model_module_version": "1.5.0",
            "value": " 1000/1000 [01:21&lt;00:00, 12.25it/s]",
            "_view_count": null,
            "_view_module_version": "1.5.0",
            "description_tooltip": null,
            "_model_module": "@jupyter-widgets/controls",
            "layout": "IPY_MODEL_09f1cca8d9364af1a2b81ba3c2de0655"
          }
        },
        "3f6224064a894d99b7d6959e1f0dcb53": {
          "model_module": "@jupyter-widgets/controls",
          "model_name": "DescriptionStyleModel",
          "model_module_version": "1.5.0",
          "state": {
            "_view_name": "StyleView",
            "_model_name": "DescriptionStyleModel",
            "description_width": "",
            "_view_module": "@jupyter-widgets/base",
            "_model_module_version": "1.5.0",
            "_view_count": null,
            "_view_module_version": "1.2.0",
            "_model_module": "@jupyter-widgets/controls"
          }
        },
        "2833686eac43439d94bb4cbe2838c226": {
          "model_module": "@jupyter-widgets/base",
          "model_name": "LayoutModel",
          "model_module_version": "1.2.0",
          "state": {
            "_view_name": "LayoutView",
            "grid_template_rows": null,
            "right": null,
            "justify_content": null,
            "_view_module": "@jupyter-widgets/base",
            "overflow": null,
            "_model_module_version": "1.2.0",
            "_view_count": null,
            "flex_flow": null,
            "width": null,
            "min_width": null,
            "border": null,
            "align_items": null,
            "bottom": null,
            "_model_module": "@jupyter-widgets/base",
            "top": null,
            "grid_column": null,
            "overflow_y": null,
            "overflow_x": null,
            "grid_auto_flow": null,
            "grid_area": null,
            "grid_template_columns": null,
            "flex": null,
            "_model_name": "LayoutModel",
            "justify_items": null,
            "grid_row": null,
            "max_height": null,
            "align_content": null,
            "visibility": null,
            "align_self": null,
            "height": null,
            "min_height": null,
            "padding": null,
            "grid_auto_rows": null,
            "grid_gap": null,
            "max_width": null,
            "order": null,
            "_view_module_version": "1.2.0",
            "grid_template_areas": null,
            "object_position": null,
            "object_fit": null,
            "grid_auto_columns": null,
            "margin": null,
            "display": null,
            "left": null
          }
        },
        "58ca887a65b94ffd8dea2d3fcf44fe3a": {
          "model_module": "@jupyter-widgets/controls",
          "model_name": "ProgressStyleModel",
          "model_module_version": "1.5.0",
          "state": {
            "_view_name": "StyleView",
            "_model_name": "ProgressStyleModel",
            "description_width": "",
            "_view_module": "@jupyter-widgets/base",
            "_model_module_version": "1.5.0",
            "_view_count": null,
            "_view_module_version": "1.2.0",
            "bar_color": null,
            "_model_module": "@jupyter-widgets/controls"
          }
        },
        "ab9c36603178414e8743b9ecf04b444d": {
          "model_module": "@jupyter-widgets/base",
          "model_name": "LayoutModel",
          "model_module_version": "1.2.0",
          "state": {
            "_view_name": "LayoutView",
            "grid_template_rows": null,
            "right": null,
            "justify_content": null,
            "_view_module": "@jupyter-widgets/base",
            "overflow": null,
            "_model_module_version": "1.2.0",
            "_view_count": null,
            "flex_flow": null,
            "width": null,
            "min_width": null,
            "border": null,
            "align_items": null,
            "bottom": null,
            "_model_module": "@jupyter-widgets/base",
            "top": null,
            "grid_column": null,
            "overflow_y": null,
            "overflow_x": null,
            "grid_auto_flow": null,
            "grid_area": null,
            "grid_template_columns": null,
            "flex": "2",
            "_model_name": "LayoutModel",
            "justify_items": null,
            "grid_row": null,
            "max_height": null,
            "align_content": null,
            "visibility": null,
            "align_self": null,
            "height": null,
            "min_height": null,
            "padding": null,
            "grid_auto_rows": null,
            "grid_gap": null,
            "max_width": null,
            "order": null,
            "_view_module_version": "1.2.0",
            "grid_template_areas": null,
            "object_position": null,
            "object_fit": null,
            "grid_auto_columns": null,
            "margin": null,
            "display": null,
            "left": null
          }
        },
        "f268dc1c238f4088bda8cdaaf6dfce1a": {
          "model_module": "@jupyter-widgets/controls",
          "model_name": "DescriptionStyleModel",
          "model_module_version": "1.5.0",
          "state": {
            "_view_name": "StyleView",
            "_model_name": "DescriptionStyleModel",
            "description_width": "",
            "_view_module": "@jupyter-widgets/base",
            "_model_module_version": "1.5.0",
            "_view_count": null,
            "_view_module_version": "1.2.0",
            "_model_module": "@jupyter-widgets/controls"
          }
        },
        "09f1cca8d9364af1a2b81ba3c2de0655": {
          "model_module": "@jupyter-widgets/base",
          "model_name": "LayoutModel",
          "model_module_version": "1.2.0",
          "state": {
            "_view_name": "LayoutView",
            "grid_template_rows": null,
            "right": null,
            "justify_content": null,
            "_view_module": "@jupyter-widgets/base",
            "overflow": null,
            "_model_module_version": "1.2.0",
            "_view_count": null,
            "flex_flow": null,
            "width": null,
            "min_width": null,
            "border": null,
            "align_items": null,
            "bottom": null,
            "_model_module": "@jupyter-widgets/base",
            "top": null,
            "grid_column": null,
            "overflow_y": null,
            "overflow_x": null,
            "grid_auto_flow": null,
            "grid_area": null,
            "grid_template_columns": null,
            "flex": null,
            "_model_name": "LayoutModel",
            "justify_items": null,
            "grid_row": null,
            "max_height": null,
            "align_content": null,
            "visibility": null,
            "align_self": null,
            "height": null,
            "min_height": null,
            "padding": null,
            "grid_auto_rows": null,
            "grid_gap": null,
            "max_width": null,
            "order": null,
            "_view_module_version": "1.2.0",
            "grid_template_areas": null,
            "object_position": null,
            "object_fit": null,
            "grid_auto_columns": null,
            "margin": null,
            "display": null,
            "left": null
          }
        }
      }
    }
  },
  "cells": [
    {
      "cell_type": "code",
      "metadata": {
        "id": "KBkpRgBCBS2_",
        "colab": {
          "base_uri": "https://localhost:8080/"
        },
        "outputId": "ed199202-3624-4387-845a-5556008bc490"
      },
      "source": [
        "!pip install -q aitextgen\n",
        "\n",
        "import logging\n",
        "logging.basicConfig(\n",
        "        format=\"%(asctime)s — %(levelname)s — %(name)s — %(message)s\",\n",
        "        datefmt=\"%m/%d/%Y %H:%M:%S\",\n",
        "        level=logging.INFO\n",
        "    )\n",
        "\n",
        "from aitextgen import aitextgen\n",
        "from aitextgen.colab import mount_gdrive, copy_file_from_gdrive\n",
        "from aitextgen.TokenDataset import TokenDataset, merge_datasets\n",
        "from aitextgen.utils import build_gpt2_config\n",
        "from aitextgen.tokenizers import train_tokenizer\n",
        "import torch\n",
        "import pandas as pd\n",
        "import numpy as np\n",
        "\n",
        "from xgboost import XGBRegressor\n",
        "from sklearn import metrics\n",
        "import scipy\n",
        "import pickle\n",
        "from pathlib import Path"
      ],
      "execution_count": 1,
      "outputs": [
        {
          "output_type": "stream",
          "name": "stdout",
          "text": [
            "\u001b[K     |████████████████████████████████| 572 kB 4.3 MB/s \n",
            "\u001b[K     |████████████████████████████████| 3.4 MB 31.0 MB/s \n",
            "\u001b[K     |████████████████████████████████| 87 kB 6.6 MB/s \n",
            "\u001b[K     |████████████████████████████████| 525 kB 46.9 MB/s \n",
            "\u001b[K     |████████████████████████████████| 829 kB 40.2 MB/s \n",
            "\u001b[K     |████████████████████████████████| 132 kB 50.2 MB/s \n",
            "\u001b[K     |████████████████████████████████| 596 kB 43.8 MB/s \n",
            "\u001b[K     |████████████████████████████████| 332 kB 52.9 MB/s \n",
            "\u001b[K     |████████████████████████████████| 1.1 MB 35.8 MB/s \n",
            "\u001b[K     |████████████████████████████████| 895 kB 38.0 MB/s \n",
            "\u001b[K     |████████████████████████████████| 61 kB 445 kB/s \n",
            "\u001b[K     |████████████████████████████████| 3.3 MB 43.6 MB/s \n",
            "\u001b[K     |████████████████████████████████| 271 kB 32.5 MB/s \n",
            "\u001b[K     |████████████████████████████████| 160 kB 47.4 MB/s \n",
            "\u001b[K     |████████████████████████████████| 192 kB 52.5 MB/s \n",
            "\u001b[?25h  Building wheel for aitextgen (setup.py) ... \u001b[?25l\u001b[?25hdone\n",
            "  Building wheel for fire (setup.py) ... \u001b[?25l\u001b[?25hdone\n",
            "  Building wheel for future (setup.py) ... \u001b[?25l\u001b[?25hdone\n"
          ]
        }
      ]
    },
    {
      "cell_type": "code",
      "source": [
        "from google.colab import drive\n",
        "drive.mount('/content/drive')"
      ],
      "metadata": {
        "colab": {
          "base_uri": "https://localhost:8080/"
        },
        "id": "OfbDd3pktBsH",
        "outputId": "f239177c-aec3-4409-ef0f-408a318a04ad"
      },
      "execution_count": 2,
      "outputs": [
        {
          "output_type": "stream",
          "name": "stdout",
          "text": [
            "Mounted at /content/drive\n"
          ]
        }
      ]
    },
    {
      "cell_type": "code",
      "metadata": {
        "id": "6OFnPCLADfll"
      },
      "source": [
        "file_name = \"/content/trainValidCorpus.txt\""
      ],
      "execution_count": 3,
      "outputs": []
    },
    {
      "cell_type": "code",
      "metadata": {
        "id": "5brMzdmzLom3"
      },
      "source": [
        "train_tokenizer(file_name)"
      ],
      "execution_count": 4,
      "outputs": []
    },
    {
      "cell_type": "code",
      "metadata": {
        "id": "GfbexWtKMaQB",
        "colab": {
          "base_uri": "https://localhost:8080/"
        },
        "outputId": "b73edb2d-8c21-4d63-9fb7-8b5332460a93"
      },
      "source": [
        "config = build_gpt2_config(vocab_size=1000, max_length=64, dropout=0.0, n_embd=32, n_layer=8, n_head=8)\n",
        "config"
      ],
      "execution_count": 5,
      "outputs": [
        {
          "output_type": "execute_result",
          "data": {
            "text/plain": [
              "GPT2Config {\n",
              "  \"activation_function\": \"gelu_new\",\n",
              "  \"attn_pdrop\": 0.0,\n",
              "  \"bos_token_id\": 0,\n",
              "  \"embd_pdrop\": 0.0,\n",
              "  \"eos_token_id\": 0,\n",
              "  \"initializer_range\": 0.02,\n",
              "  \"layer_norm_epsilon\": 1e-05,\n",
              "  \"model_type\": \"gpt2\",\n",
              "  \"n_ctx\": 64,\n",
              "  \"n_embd\": 32,\n",
              "  \"n_head\": 8,\n",
              "  \"n_inner\": null,\n",
              "  \"n_layer\": 8,\n",
              "  \"n_positions\": 64,\n",
              "  \"reorder_and_upcast_attn\": false,\n",
              "  \"resid_pdrop\": 0.0,\n",
              "  \"scale_attn_by_inverse_layer_idx\": false,\n",
              "  \"scale_attn_weights\": true,\n",
              "  \"summary_activation\": null,\n",
              "  \"summary_first_dropout\": 0.0,\n",
              "  \"summary_proj_to_labels\": true,\n",
              "  \"summary_type\": \"cls_index\",\n",
              "  \"summary_use_proj\": true,\n",
              "  \"transformers_version\": \"4.14.1\",\n",
              "  \"use_cache\": true,\n",
              "  \"vocab_size\": 1000\n",
              "}"
            ]
          },
          "metadata": {},
          "execution_count": 5
        }
      ]
    },
    {
      "cell_type": "code",
      "metadata": {
        "id": "AOfP_Rc9MvsZ",
        "colab": {
          "base_uri": "https://localhost:8080/"
        },
        "outputId": "c2cfcbab-5f75-406e-d851-834baff34ab2"
      },
      "source": [
        "ai = aitextgen(config=config,\n",
        "               tokenizer_file=\"aitextgen.tokenizer.json\",\n",
        "               to_gpu=True)"
      ],
      "execution_count": 6,
      "outputs": [
        {
          "output_type": "stream",
          "name": "stderr",
          "text": [
            "12/16/2021 06:27:39 — INFO — aitextgen — Constructing model from provided config.\n",
            "12/16/2021 06:27:39 — INFO — aitextgen — GPT2 loaded with 0M parameters.\n",
            "12/16/2021 06:27:39 — INFO — aitextgen — Using a custom tokenizer.\n"
          ]
        }
      ]
    },
    {
      "cell_type": "code",
      "metadata": {
        "id": "aeXshJM-Cuaf",
        "colab": {
          "base_uri": "https://localhost:8080/",
          "height": 448,
          "referenced_widgets": [
            "f229ec20394b4d268ba3fe098fc3e776",
            "9c2a376040604568b837727de2977098",
            "31c9c0bfb30d49ffa09dde41179cbe36",
            "ed8ba667e9fe40e89b57e568e1f91f18",
            "09920f9e466b4b6b9fef010bfbde5070",
            "47b12996f79d46f18a5d2b29424a009e",
            "f3f7f27d13574b2a84c52ff4a8d1b7ec",
            "d848c9e75cbb4286a11e1dda8235c027",
            "c15b9d3917654de4aa41d1ae0d867dff",
            "4c3d8196051741009b5032cae617bb36",
            "b3ca439bc04e437398e29f30d8599ef5",
            "cd5d57565e8341999044387c3c6624ec",
            "30ca616a0771455cada44e695b5b1d85",
            "954a0ac1b2134e22b8c382215f137bd2",
            "58990faa7f0b4a69b769f26cab63f0f6",
            "4e7ee13d432149cebd8aac3cb1949736",
            "3f6224064a894d99b7d6959e1f0dcb53",
            "2833686eac43439d94bb4cbe2838c226",
            "58ca887a65b94ffd8dea2d3fcf44fe3a",
            "ab9c36603178414e8743b9ecf04b444d",
            "f268dc1c238f4088bda8cdaaf6dfce1a",
            "09f1cca8d9364af1a2b81ba3c2de0655"
          ]
        },
        "outputId": "36b515eb-4b2d-4240-da35-35b9e75e86ea"
      },
      "source": [
        "ai.train(file_name,\n",
        "         line_by_line=False,\n",
        "         from_cache=False,\n",
        "         num_steps=1000,\n",
        "         generate_every=1000,\n",
        "         save_every=1000,\n",
        "         save_gdrive=False,\n",
        "         learning_rate=1e-3,\n",
        "         batch_size=64,\n",
        "         )"
      ],
      "execution_count": 7,
      "outputs": [
        {
          "output_type": "stream",
          "name": "stderr",
          "text": [
            "12/16/2021 06:27:52 — INFO — aitextgen — Loading text from /content/trainValidCorpus.txt with generation length of 64.\n"
          ]
        },
        {
          "output_type": "display_data",
          "data": {
            "application/vnd.jupyter.widget-view+json": {
              "model_id": "f229ec20394b4d268ba3fe098fc3e776",
              "version_minor": 0,
              "version_major": 2
            },
            "text/plain": [
              "  0%|          | 0/800 [00:00<?, ?it/s]"
            ]
          },
          "metadata": {}
        },
        {
          "output_type": "stream",
          "name": "stderr",
          "text": [
            "12/16/2021 06:27:52 — INFO — aitextgen.TokenDataset — Encoding 800 sets of tokens from /content/trainValidCorpus.txt.\n",
            "/usr/local/lib/python3.7/dist-packages/pytorch_lightning/trainer/connectors/callback_connector.py:148: LightningDeprecationWarning: Setting `Trainer(checkpoint_callback=False)` is deprecated in v1.5 and will be removed in v1.7. Please consider using `Trainer(enable_checkpointing=False)`.\n",
            "  f\"Setting `Trainer(checkpoint_callback={checkpoint_callback})` is deprecated in v1.5 and will \"\n",
            "/usr/local/lib/python3.7/dist-packages/pytorch_lightning/trainer/connectors/callback_connector.py:91: LightningDeprecationWarning: Setting `Trainer(progress_bar_refresh_rate=20)` is deprecated in v1.5 and will be removed in v1.7. Please pass `pytorch_lightning.callbacks.progress.TQDMProgressBar` with `refresh_rate` directly to the Trainer's `callbacks` argument instead. Or, to disable the progress bar pass `enable_progress_bar = False` to the Trainer.\n",
            "  f\"Setting `Trainer(progress_bar_refresh_rate={progress_bar_refresh_rate})` is deprecated in v1.5 and\"\n",
            "/usr/local/lib/python3.7/dist-packages/pytorch_lightning/trainer/connectors/callback_connector.py:168: LightningDeprecationWarning: Setting `Trainer(weights_summary=None)` is deprecated in v1.5 and will be removed in v1.7. Please set `Trainer(enable_model_summary=False)` instead.\n",
            "  \"Setting `Trainer(weights_summary=None)` is deprecated in v1.5 and will be removed\"\n",
            "12/16/2021 06:27:52 — INFO — pytorch_lightning.utilities.distributed — GPU available: True, used: True\n",
            "12/16/2021 06:27:52 — INFO — pytorch_lightning.utilities.distributed — TPU available: False, using: 0 TPU cores\n",
            "12/16/2021 06:27:52 — INFO — pytorch_lightning.utilities.distributed — IPU available: False, using: 0 IPUs\n",
            "12/16/2021 06:27:52 — INFO — pytorch_lightning.accelerators.gpu — LOCAL_RANK: 0 - CUDA_VISIBLE_DEVICES: [0]\n"
          ]
        },
        {
          "output_type": "display_data",
          "data": {
            "application/vnd.jupyter.widget-view+json": {
              "model_id": "cd5d57565e8341999044387c3c6624ec",
              "version_minor": 0,
              "version_major": 2
            },
            "text/plain": [
              "  0%|          | 0/1000 [00:00<?, ?it/s]"
            ]
          },
          "metadata": {}
        },
        {
          "output_type": "stream",
          "name": "stderr",
          "text": [
            "/usr/local/lib/python3.7/dist-packages/pytorch_lightning/trainer/trainer.py:1819: LightningDeprecationWarning: `trainer.progress_bar_dict` is deprecated in v1.5 and will be removed in v1.7. Use `ProgressBarBase.get_metrics` instead.\n",
            "  \"`trainer.progress_bar_dict` is deprecated in v1.5 and will be removed in v1.7.\"\n"
          ]
        },
        {
          "output_type": "stream",
          "name": "stdout",
          "text": [
            "\u001b[1m1,000 steps reached: saving model to /trained_model\u001b[0m\n",
            "\u001b[1m1,000 steps reached: generating sample texts.\u001b[0m\n"
          ]
        },
        {
          "output_type": "stream",
          "name": "stderr",
          "text": [
            "12/16/2021 06:29:14 — INFO — aitextgen — Saving trained model pytorch_model.bin to /trained_model\n"
          ]
        },
        {
          "output_type": "stream",
          "name": "stdout",
          "text": [
            "==========\n",
            " hhmmh hhhhh hhhhh hmhhh hhhhh hhhmh hhlmh hhhmh hhhhh hhhhh hhhhh hhhmh hhhmh hhmmh hhmhh hhhhm hhhhh hhhhh hhhmh hhmhh hhhhh hmhhh hmhhh hhhhh hhhhh hmhhh hhmhh hhhhh hhhhh hhhhh hhhhh hhhmh hhhhh hhhhh hmhhh mlhhh llhhh mlhmh mhhhh hhhhh hhhhh hhhhh hhlhh hhhhh hhhhh hmhhh mmhhh hlhhh hmhhh hhhhh lhhhh hhhhh mmhhh mlhhh hmhhh hlhhh lllhh llhhh hlhhh hmhhh mhhhh mhmhh hhhhh\n",
            "==========\n"
          ]
        }
      ]
    },
    {
      "cell_type": "code",
      "source": [
        "word_embeddings = ai.model.transformer.wte.weight\n",
        "position_embeddings = ai.model.transformer.wpe.weight"
      ],
      "metadata": {
        "id": "ESBxuVVkyJ_L"
      },
      "execution_count": 9,
      "outputs": []
    },
    {
      "cell_type": "code",
      "source": [
        "all_prompts = []\n",
        "dataPaths = [\"C1Test.csv\", \"C1Train.csv\", \"C1Valid.csv\", \"C2Test.csv\", \"C2Train.csv\", \"C2Valid.csv\", \"DiffTrain.csv\", \"DiffValid.csv\", \"DiffTest.csv\"]\n",
        "for path in dataPaths:\n",
        "  all_prompts.append(pd.read_csv(\"/content/\" + path, delimiter='\\t', header=None))"
      ],
      "metadata": {
        "id": "ONrKfsyGUud9"
      },
      "execution_count": 12,
      "outputs": []
    },
    {
      "cell_type": "code",
      "source": [
        "for i in range(len(all_prompts)):\n",
        "  embedded = []\n",
        "  for prompt in all_prompts[i][0]:\n",
        "    tokens = ai.tokenizer(text=prompt, return_tensors=\"pt\")[\"input_ids\"][0].numpy()[0:207]\n",
        "    w_embedding = []\n",
        "    for token in tokens:\n",
        "      w_embedding.append(word_embeddings[token].cpu().detach().numpy())\n",
        "    w_embedding = np.asarray(w_embedding).flatten()\n",
        "\n",
        "    \n",
        "    embedded.append(w_embedding)\n",
        "  embedded = np.asarray(embedded)\n",
        "\n",
        "  np.savetxt(\"/content/\" + dataPaths[i][:-4] + \"Embeddings.csv\", \n",
        "          embedded,\n",
        "          delimiter =\", \", \n",
        "          fmt ='% s')\n"
      ],
      "metadata": {
        "id": "6R3dUpqIuLEI"
      },
      "execution_count": 13,
      "outputs": []
    },
    {
      "cell_type": "code",
      "source": [
        "types = [\"raw_c\", \"raw_d\", \"raw\"]\n",
        "for dataset_type in types:\n",
        "  # read base data\n",
        "  X_train, y_train, X_test, y_test = None, None, None, None\n",
        "  Xc_train, Xc_test = None, None\n",
        "  Xd_train, Xd_test = None, None\n",
        "\n",
        "  # Get labels (same across all datasets)\n",
        "  test_diff_df = pd.read_csv(\"/content/C12TestDiff.tsv\",\n",
        "                            delimiter='\\t', header=None)\n",
        "  train_diff_df = pd.read_csv(\n",
        "      \"/content/C12TrainDiff.tsv\", delimiter='\\t', header=None)\n",
        "  valid_diff_df = pd.read_csv(\n",
        "      \"/content/C12ValidDiff.tsv\", delimiter='\\t', header=None)\n",
        "\n",
        "  y_test = test_diff_df\n",
        "  y_train = pd.concat([train_diff_df, valid_diff_df])\n",
        "\n",
        "  # Get features\n",
        "  if dataset_type == \"raw_c\" or dataset_type == \"raw\":\n",
        "      c1_test_df = pd.read_csv(\"/content/C1TestEmbeddings.csv\", header=None)\n",
        "      c1_train_df = pd.read_csv(\"/content/C1TrainEmbeddings.csv\", header=None)\n",
        "      c1_valid_df = pd.read_csv(\"/content/C1ValidEmbeddings.csv\", header=None)\n",
        "\n",
        "      c2_test_df = pd.read_csv(\"/content/C2TestEmbeddings.csv\", header=None)\n",
        "      c2_train_df = pd.read_csv(\"/content/C2TrainEmbeddings.csv\", header=None)\n",
        "      c2_valid_df = pd.read_csv(\"/content/C2ValidEmbeddings.csv\", header=None)\n",
        "\n",
        "      c12_train_df = pd.concat([c1_train_df, c2_train_df], axis=1)\n",
        "      c12_valid_df = pd.concat([c1_valid_df, c2_valid_df], axis=1)\n",
        "\n",
        "      # Reset index prevents errors from combining Xd_train and Xc_train.\n",
        "      # Unless you specify drop=True, it creates a new column that stores indices\n",
        "      # We don't want this, because it essentially adds another feature that's just id\n",
        "      Xc_train = pd.concat([c12_train_df, c12_valid_df]).reset_index(drop=True)\n",
        "      Xc_test = pd.concat([c1_test_df, c2_test_df], axis=1)\n",
        "\n",
        "  if dataset_type == \"raw_d\" or dataset_type == \"raw\":\n",
        "      diff_train = pd.read_csv(\"/content/DiffTrainEmbeddings.csv\", header=None)\n",
        "      diff_valid = pd.read_csv(\"/content/DiffValidEmbeddings.csv\", header=None)\n",
        "\n",
        "      # Reset index prevents errors from combining Xd_train and Xc_train.\n",
        "      # Unless you specify drop=True, it creates a new column that stores indices\n",
        "      # We don't want this, because it essentially adds another feature that's just id\n",
        "      Xd_train = pd.concat([diff_train, diff_valid]).reset_index(drop=True)\n",
        "      Xd_test = pd.read_csv(\"/content/DiffTestEmbeddings.csv\", header=None)\n",
        "\n",
        "  if dataset_type == \"raw_c\":\n",
        "      X_train = Xc_train\n",
        "      X_test = Xc_test\n",
        "\n",
        "  if dataset_type == \"raw_d\":\n",
        "      X_train = Xd_train\n",
        "      X_test = Xd_test\n",
        "\n",
        "  if dataset_type == \"raw\":\n",
        "      # print(\"len\", len(Xc_train.columns), len(Xd_train.columns))\n",
        "      X_train = pd.concat([Xc_train, Xd_train], axis=1)\n",
        "      X_test = pd.concat([Xc_test, Xd_test], axis=1)\n",
        "\n",
        "  X_train.columns = [i for i in range(len(X_train.columns))]\n",
        "  y_train.columns = [i for i in range(len(y_train.columns))]\n",
        "  X_test.columns = [i for i in range(len(X_test.columns))]\n",
        "  y_test.columns = [i for i in range(len(y_test.columns))]\n",
        "\n",
        "  model = XGBRegressor(random_state=0)\n",
        "  model.fit(X_train, y_train)\n",
        "\n",
        "  score = model.score(X_test, y_test)\n",
        "\n",
        "  ypred = model.predict(X_test)\n",
        "\n",
        "  R, p = scipy.stats.pearsonr(np.squeeze(y_test), np.squeeze(ypred))\n",
        "  MSE = metrics.mean_squared_error(y_test, ypred)\n",
        "\n",
        "  print(\"Dataset results for type \", dataset_type)\n",
        "  print(\"XGBoost regressor score: \", score)\n",
        "  print(\"R:\", R)\n",
        "  print(\"p:\", p)\n",
        "  print(\"MSE:\", MSE)"
      ],
      "metadata": {
        "colab": {
          "base_uri": "https://localhost:8080/"
        },
        "id": "Zllaqttr2XNU",
        "outputId": "c6b61761-79c1-4190-919c-9a32360c9bc6"
      },
      "execution_count": 14,
      "outputs": [
        {
          "output_type": "stream",
          "name": "stdout",
          "text": [
            "[06:32:42] WARNING: /workspace/src/objective/regression_obj.cu:152: reg:linear is now deprecated in favor of reg:squarederror.\n",
            "Dataset results for type  raw_c\n",
            "XGBoost regressor score:  0.3231944280914191\n",
            "R: 0.573678512044506\n",
            "p: 6.741255697813506e-19\n",
            "MSE: 4.683788958012134\n",
            "[06:33:16] WARNING: /workspace/src/objective/regression_obj.cu:152: reg:linear is now deprecated in favor of reg:squarederror.\n",
            "Dataset results for type  raw_d\n",
            "XGBoost regressor score:  0.2483313602389361\n",
            "R: 0.5114290277100109\n",
            "p: 1.0036220334072922e-14\n",
            "MSE: 5.201873951877604\n",
            "[06:33:37] WARNING: /workspace/src/objective/regression_obj.cu:152: reg:linear is now deprecated in favor of reg:squarederror.\n",
            "Dataset results for type  raw\n",
            "XGBoost regressor score:  0.2902876286705999\n",
            "R: 0.5461574497133536\n",
            "p: 6.032640851210428e-17\n",
            "MSE: 4.911518323974819\n"
          ]
        }
      ]
    }
  ]
}