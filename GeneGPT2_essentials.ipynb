{
  "nbformat": 4,
  "nbformat_minor": 0,
  "metadata": {
    "colab": {
      "name": "GeneGPT2 essentials",
      "provenance": [],
      "collapsed_sections": []
    },
    "kernelspec": {
      "name": "python3",
      "display_name": "Python 3"
    },
    "accelerator": "GPU",
    "widgets": {
      "application/vnd.jupyter.widget-state+json": {
        "a9e8e8979da44c96ab7fa3c8589b3f8d": {
          "model_module": "@jupyter-widgets/controls",
          "model_name": "HBoxModel",
          "model_module_version": "1.5.0",
          "state": {
            "_view_name": "HBoxView",
            "_dom_classes": [],
            "_model_name": "HBoxModel",
            "_view_module": "@jupyter-widgets/controls",
            "_model_module_version": "1.5.0",
            "_view_count": null,
            "_view_module_version": "1.5.0",
            "box_style": "",
            "layout": "IPY_MODEL_5126c411994645f5bf32bfd077468763",
            "_model_module": "@jupyter-widgets/controls",
            "children": [
              "IPY_MODEL_574a459a09bf4a2bae1a29e023864f63",
              "IPY_MODEL_e15d9095f94040289b69a52083ef9229",
              "IPY_MODEL_ce40ca878c7848a186e36cf7260a7b5e"
            ]
          }
        },
        "5126c411994645f5bf32bfd077468763": {
          "model_module": "@jupyter-widgets/base",
          "model_name": "LayoutModel",
          "model_module_version": "1.2.0",
          "state": {
            "_view_name": "LayoutView",
            "grid_template_rows": null,
            "right": null,
            "justify_content": null,
            "_view_module": "@jupyter-widgets/base",
            "overflow": null,
            "_model_module_version": "1.2.0",
            "_view_count": null,
            "flex_flow": "row wrap",
            "width": "100%",
            "min_width": null,
            "border": null,
            "align_items": null,
            "bottom": null,
            "_model_module": "@jupyter-widgets/base",
            "top": null,
            "grid_column": null,
            "overflow_y": null,
            "overflow_x": null,
            "grid_auto_flow": null,
            "grid_area": null,
            "grid_template_columns": null,
            "flex": null,
            "_model_name": "LayoutModel",
            "justify_items": null,
            "grid_row": null,
            "max_height": null,
            "align_content": null,
            "visibility": null,
            "align_self": null,
            "height": null,
            "min_height": null,
            "padding": null,
            "grid_auto_rows": null,
            "grid_gap": null,
            "max_width": null,
            "order": null,
            "_view_module_version": "1.2.0",
            "grid_template_areas": null,
            "object_position": null,
            "object_fit": null,
            "grid_auto_columns": null,
            "margin": null,
            "display": "inline-flex",
            "left": null
          }
        },
        "574a459a09bf4a2bae1a29e023864f63": {
          "model_module": "@jupyter-widgets/controls",
          "model_name": "HTMLModel",
          "model_module_version": "1.5.0",
          "state": {
            "_view_name": "HTMLView",
            "style": "IPY_MODEL_e85f443a1a7c4c16a2d856b62912ea6e",
            "_dom_classes": [],
            "description": "",
            "_model_name": "HTMLModel",
            "placeholder": "​",
            "_view_module": "@jupyter-widgets/controls",
            "_model_module_version": "1.5.0",
            "value": "100%",
            "_view_count": null,
            "_view_module_version": "1.5.0",
            "description_tooltip": null,
            "_model_module": "@jupyter-widgets/controls",
            "layout": "IPY_MODEL_45cf9e185c8640e3954978c7fa365360"
          }
        },
        "e15d9095f94040289b69a52083ef9229": {
          "model_module": "@jupyter-widgets/controls",
          "model_name": "FloatProgressModel",
          "model_module_version": "1.5.0",
          "state": {
            "_view_name": "ProgressView",
            "style": "IPY_MODEL_ee47c189edc843a183a1e7b7b485a630",
            "_dom_classes": [],
            "description": "",
            "_model_name": "FloatProgressModel",
            "bar_style": "success",
            "max": 800,
            "_view_module": "@jupyter-widgets/controls",
            "_model_module_version": "1.5.0",
            "value": 800,
            "_view_count": null,
            "_view_module_version": "1.5.0",
            "orientation": "horizontal",
            "min": 0,
            "description_tooltip": null,
            "_model_module": "@jupyter-widgets/controls",
            "layout": "IPY_MODEL_d79fe06551be49279429eb429b62b22b"
          }
        },
        "ce40ca878c7848a186e36cf7260a7b5e": {
          "model_module": "@jupyter-widgets/controls",
          "model_name": "HTMLModel",
          "model_module_version": "1.5.0",
          "state": {
            "_view_name": "HTMLView",
            "style": "IPY_MODEL_1f4ee47036984fa7ae57cccacbd4849f",
            "_dom_classes": [],
            "description": "",
            "_model_name": "HTMLModel",
            "placeholder": "​",
            "_view_module": "@jupyter-widgets/controls",
            "_model_module_version": "1.5.0",
            "value": " 800/800 [00:00&lt;00:00, 1516.37it/s]",
            "_view_count": null,
            "_view_module_version": "1.5.0",
            "description_tooltip": null,
            "_model_module": "@jupyter-widgets/controls",
            "layout": "IPY_MODEL_9da5e195e77b44f1acac969192d7b235"
          }
        },
        "e85f443a1a7c4c16a2d856b62912ea6e": {
          "model_module": "@jupyter-widgets/controls",
          "model_name": "DescriptionStyleModel",
          "model_module_version": "1.5.0",
          "state": {
            "_view_name": "StyleView",
            "_model_name": "DescriptionStyleModel",
            "description_width": "",
            "_view_module": "@jupyter-widgets/base",
            "_model_module_version": "1.5.0",
            "_view_count": null,
            "_view_module_version": "1.2.0",
            "_model_module": "@jupyter-widgets/controls"
          }
        },
        "45cf9e185c8640e3954978c7fa365360": {
          "model_module": "@jupyter-widgets/base",
          "model_name": "LayoutModel",
          "model_module_version": "1.2.0",
          "state": {
            "_view_name": "LayoutView",
            "grid_template_rows": null,
            "right": null,
            "justify_content": null,
            "_view_module": "@jupyter-widgets/base",
            "overflow": null,
            "_model_module_version": "1.2.0",
            "_view_count": null,
            "flex_flow": null,
            "width": null,
            "min_width": null,
            "border": null,
            "align_items": null,
            "bottom": null,
            "_model_module": "@jupyter-widgets/base",
            "top": null,
            "grid_column": null,
            "overflow_y": null,
            "overflow_x": null,
            "grid_auto_flow": null,
            "grid_area": null,
            "grid_template_columns": null,
            "flex": null,
            "_model_name": "LayoutModel",
            "justify_items": null,
            "grid_row": null,
            "max_height": null,
            "align_content": null,
            "visibility": null,
            "align_self": null,
            "height": null,
            "min_height": null,
            "padding": null,
            "grid_auto_rows": null,
            "grid_gap": null,
            "max_width": null,
            "order": null,
            "_view_module_version": "1.2.0",
            "grid_template_areas": null,
            "object_position": null,
            "object_fit": null,
            "grid_auto_columns": null,
            "margin": null,
            "display": null,
            "left": null
          }
        },
        "ee47c189edc843a183a1e7b7b485a630": {
          "model_module": "@jupyter-widgets/controls",
          "model_name": "ProgressStyleModel",
          "model_module_version": "1.5.0",
          "state": {
            "_view_name": "StyleView",
            "_model_name": "ProgressStyleModel",
            "description_width": "",
            "_view_module": "@jupyter-widgets/base",
            "_model_module_version": "1.5.0",
            "_view_count": null,
            "_view_module_version": "1.2.0",
            "bar_color": null,
            "_model_module": "@jupyter-widgets/controls"
          }
        },
        "d79fe06551be49279429eb429b62b22b": {
          "model_module": "@jupyter-widgets/base",
          "model_name": "LayoutModel",
          "model_module_version": "1.2.0",
          "state": {
            "_view_name": "LayoutView",
            "grid_template_rows": null,
            "right": null,
            "justify_content": null,
            "_view_module": "@jupyter-widgets/base",
            "overflow": null,
            "_model_module_version": "1.2.0",
            "_view_count": null,
            "flex_flow": null,
            "width": null,
            "min_width": null,
            "border": null,
            "align_items": null,
            "bottom": null,
            "_model_module": "@jupyter-widgets/base",
            "top": null,
            "grid_column": null,
            "overflow_y": null,
            "overflow_x": null,
            "grid_auto_flow": null,
            "grid_area": null,
            "grid_template_columns": null,
            "flex": "2",
            "_model_name": "LayoutModel",
            "justify_items": null,
            "grid_row": null,
            "max_height": null,
            "align_content": null,
            "visibility": null,
            "align_self": null,
            "height": null,
            "min_height": null,
            "padding": null,
            "grid_auto_rows": null,
            "grid_gap": null,
            "max_width": null,
            "order": null,
            "_view_module_version": "1.2.0",
            "grid_template_areas": null,
            "object_position": null,
            "object_fit": null,
            "grid_auto_columns": null,
            "margin": null,
            "display": null,
            "left": null
          }
        },
        "1f4ee47036984fa7ae57cccacbd4849f": {
          "model_module": "@jupyter-widgets/controls",
          "model_name": "DescriptionStyleModel",
          "model_module_version": "1.5.0",
          "state": {
            "_view_name": "StyleView",
            "_model_name": "DescriptionStyleModel",
            "description_width": "",
            "_view_module": "@jupyter-widgets/base",
            "_model_module_version": "1.5.0",
            "_view_count": null,
            "_view_module_version": "1.2.0",
            "_model_module": "@jupyter-widgets/controls"
          }
        },
        "9da5e195e77b44f1acac969192d7b235": {
          "model_module": "@jupyter-widgets/base",
          "model_name": "LayoutModel",
          "model_module_version": "1.2.0",
          "state": {
            "_view_name": "LayoutView",
            "grid_template_rows": null,
            "right": null,
            "justify_content": null,
            "_view_module": "@jupyter-widgets/base",
            "overflow": null,
            "_model_module_version": "1.2.0",
            "_view_count": null,
            "flex_flow": null,
            "width": null,
            "min_width": null,
            "border": null,
            "align_items": null,
            "bottom": null,
            "_model_module": "@jupyter-widgets/base",
            "top": null,
            "grid_column": null,
            "overflow_y": null,
            "overflow_x": null,
            "grid_auto_flow": null,
            "grid_area": null,
            "grid_template_columns": null,
            "flex": null,
            "_model_name": "LayoutModel",
            "justify_items": null,
            "grid_row": null,
            "max_height": null,
            "align_content": null,
            "visibility": null,
            "align_self": null,
            "height": null,
            "min_height": null,
            "padding": null,
            "grid_auto_rows": null,
            "grid_gap": null,
            "max_width": null,
            "order": null,
            "_view_module_version": "1.2.0",
            "grid_template_areas": null,
            "object_position": null,
            "object_fit": null,
            "grid_auto_columns": null,
            "margin": null,
            "display": null,
            "left": null
          }
        },
        "cae9d69377464b43bf726e2e7985c179": {
          "model_module": "@jupyter-widgets/controls",
          "model_name": "HBoxModel",
          "model_module_version": "1.5.0",
          "state": {
            "_view_name": "HBoxView",
            "_dom_classes": [],
            "_model_name": "HBoxModel",
            "_view_module": "@jupyter-widgets/controls",
            "_model_module_version": "1.5.0",
            "_view_count": null,
            "_view_module_version": "1.5.0",
            "box_style": "",
            "layout": "IPY_MODEL_00dcfe8563594f87a148cf978f4d7efa",
            "_model_module": "@jupyter-widgets/controls",
            "children": [
              "IPY_MODEL_204584fb497147af842eab989bf583bb",
              "IPY_MODEL_577b12c7f3cc46d88cf2bb55fbbc3781",
              "IPY_MODEL_9b70c7a55e8f440483d2ae305ba4c6a5"
            ]
          }
        },
        "00dcfe8563594f87a148cf978f4d7efa": {
          "model_module": "@jupyter-widgets/base",
          "model_name": "LayoutModel",
          "model_module_version": "1.2.0",
          "state": {
            "_view_name": "LayoutView",
            "grid_template_rows": null,
            "right": null,
            "justify_content": null,
            "_view_module": "@jupyter-widgets/base",
            "overflow": null,
            "_model_module_version": "1.2.0",
            "_view_count": null,
            "flex_flow": "row wrap",
            "width": "100%",
            "min_width": null,
            "border": null,
            "align_items": null,
            "bottom": null,
            "_model_module": "@jupyter-widgets/base",
            "top": null,
            "grid_column": null,
            "overflow_y": null,
            "overflow_x": null,
            "grid_auto_flow": null,
            "grid_area": null,
            "grid_template_columns": null,
            "flex": null,
            "_model_name": "LayoutModel",
            "justify_items": null,
            "grid_row": null,
            "max_height": null,
            "align_content": null,
            "visibility": null,
            "align_self": null,
            "height": null,
            "min_height": null,
            "padding": null,
            "grid_auto_rows": null,
            "grid_gap": null,
            "max_width": null,
            "order": null,
            "_view_module_version": "1.2.0",
            "grid_template_areas": null,
            "object_position": null,
            "object_fit": null,
            "grid_auto_columns": null,
            "margin": null,
            "display": "inline-flex",
            "left": null
          }
        },
        "204584fb497147af842eab989bf583bb": {
          "model_module": "@jupyter-widgets/controls",
          "model_name": "HTMLModel",
          "model_module_version": "1.5.0",
          "state": {
            "_view_name": "HTMLView",
            "style": "IPY_MODEL_004d833a3647441aa3e15361c707f9ab",
            "_dom_classes": [],
            "description": "",
            "_model_name": "HTMLModel",
            "placeholder": "​",
            "_view_module": "@jupyter-widgets/controls",
            "_model_module_version": "1.5.0",
            "value": "Loss: 4.360 — Avg: 4.383 — GPU Mem: 959 MB: 100%",
            "_view_count": null,
            "_view_module_version": "1.5.0",
            "description_tooltip": null,
            "_model_module": "@jupyter-widgets/controls",
            "layout": "IPY_MODEL_0a9f3c1a0ae44bccb766c9fb0f6a4dff"
          }
        },
        "577b12c7f3cc46d88cf2bb55fbbc3781": {
          "model_module": "@jupyter-widgets/controls",
          "model_name": "FloatProgressModel",
          "model_module_version": "1.5.0",
          "state": {
            "_view_name": "ProgressView",
            "style": "IPY_MODEL_b6f96c05806b4be0bbbd7b7846a6f00a",
            "_dom_classes": [],
            "description": "",
            "_model_name": "FloatProgressModel",
            "bar_style": "success",
            "max": 1000,
            "_view_module": "@jupyter-widgets/controls",
            "_model_module_version": "1.5.0",
            "value": 1000,
            "_view_count": null,
            "_view_module_version": "1.5.0",
            "orientation": "horizontal",
            "min": 0,
            "description_tooltip": null,
            "_model_module": "@jupyter-widgets/controls",
            "layout": "IPY_MODEL_1dedf08486074f1c964ef5c35a550165"
          }
        },
        "9b70c7a55e8f440483d2ae305ba4c6a5": {
          "model_module": "@jupyter-widgets/controls",
          "model_name": "HTMLModel",
          "model_module_version": "1.5.0",
          "state": {
            "_view_name": "HTMLView",
            "style": "IPY_MODEL_a93ea166396f49d181ef7b730be4fdbc",
            "_dom_classes": [],
            "description": "",
            "_model_name": "HTMLModel",
            "placeholder": "​",
            "_view_module": "@jupyter-widgets/controls",
            "_model_module_version": "1.5.0",
            "value": " 1000/1000 [01:37&lt;00:00, 10.23it/s]",
            "_view_count": null,
            "_view_module_version": "1.5.0",
            "description_tooltip": null,
            "_model_module": "@jupyter-widgets/controls",
            "layout": "IPY_MODEL_d6b3a4fc1ce94bf7933870a2e5291ab2"
          }
        },
        "004d833a3647441aa3e15361c707f9ab": {
          "model_module": "@jupyter-widgets/controls",
          "model_name": "DescriptionStyleModel",
          "model_module_version": "1.5.0",
          "state": {
            "_view_name": "StyleView",
            "_model_name": "DescriptionStyleModel",
            "description_width": "",
            "_view_module": "@jupyter-widgets/base",
            "_model_module_version": "1.5.0",
            "_view_count": null,
            "_view_module_version": "1.2.0",
            "_model_module": "@jupyter-widgets/controls"
          }
        },
        "0a9f3c1a0ae44bccb766c9fb0f6a4dff": {
          "model_module": "@jupyter-widgets/base",
          "model_name": "LayoutModel",
          "model_module_version": "1.2.0",
          "state": {
            "_view_name": "LayoutView",
            "grid_template_rows": null,
            "right": null,
            "justify_content": null,
            "_view_module": "@jupyter-widgets/base",
            "overflow": null,
            "_model_module_version": "1.2.0",
            "_view_count": null,
            "flex_flow": null,
            "width": null,
            "min_width": null,
            "border": null,
            "align_items": null,
            "bottom": null,
            "_model_module": "@jupyter-widgets/base",
            "top": null,
            "grid_column": null,
            "overflow_y": null,
            "overflow_x": null,
            "grid_auto_flow": null,
            "grid_area": null,
            "grid_template_columns": null,
            "flex": null,
            "_model_name": "LayoutModel",
            "justify_items": null,
            "grid_row": null,
            "max_height": null,
            "align_content": null,
            "visibility": null,
            "align_self": null,
            "height": null,
            "min_height": null,
            "padding": null,
            "grid_auto_rows": null,
            "grid_gap": null,
            "max_width": null,
            "order": null,
            "_view_module_version": "1.2.0",
            "grid_template_areas": null,
            "object_position": null,
            "object_fit": null,
            "grid_auto_columns": null,
            "margin": null,
            "display": null,
            "left": null
          }
        },
        "b6f96c05806b4be0bbbd7b7846a6f00a": {
          "model_module": "@jupyter-widgets/controls",
          "model_name": "ProgressStyleModel",
          "model_module_version": "1.5.0",
          "state": {
            "_view_name": "StyleView",
            "_model_name": "ProgressStyleModel",
            "description_width": "",
            "_view_module": "@jupyter-widgets/base",
            "_model_module_version": "1.5.0",
            "_view_count": null,
            "_view_module_version": "1.2.0",
            "bar_color": null,
            "_model_module": "@jupyter-widgets/controls"
          }
        },
        "1dedf08486074f1c964ef5c35a550165": {
          "model_module": "@jupyter-widgets/base",
          "model_name": "LayoutModel",
          "model_module_version": "1.2.0",
          "state": {
            "_view_name": "LayoutView",
            "grid_template_rows": null,
            "right": null,
            "justify_content": null,
            "_view_module": "@jupyter-widgets/base",
            "overflow": null,
            "_model_module_version": "1.2.0",
            "_view_count": null,
            "flex_flow": null,
            "width": null,
            "min_width": null,
            "border": null,
            "align_items": null,
            "bottom": null,
            "_model_module": "@jupyter-widgets/base",
            "top": null,
            "grid_column": null,
            "overflow_y": null,
            "overflow_x": null,
            "grid_auto_flow": null,
            "grid_area": null,
            "grid_template_columns": null,
            "flex": "2",
            "_model_name": "LayoutModel",
            "justify_items": null,
            "grid_row": null,
            "max_height": null,
            "align_content": null,
            "visibility": null,
            "align_self": null,
            "height": null,
            "min_height": null,
            "padding": null,
            "grid_auto_rows": null,
            "grid_gap": null,
            "max_width": null,
            "order": null,
            "_view_module_version": "1.2.0",
            "grid_template_areas": null,
            "object_position": null,
            "object_fit": null,
            "grid_auto_columns": null,
            "margin": null,
            "display": null,
            "left": null
          }
        },
        "a93ea166396f49d181ef7b730be4fdbc": {
          "model_module": "@jupyter-widgets/controls",
          "model_name": "DescriptionStyleModel",
          "model_module_version": "1.5.0",
          "state": {
            "_view_name": "StyleView",
            "_model_name": "DescriptionStyleModel",
            "description_width": "",
            "_view_module": "@jupyter-widgets/base",
            "_model_module_version": "1.5.0",
            "_view_count": null,
            "_view_module_version": "1.2.0",
            "_model_module": "@jupyter-widgets/controls"
          }
        },
        "d6b3a4fc1ce94bf7933870a2e5291ab2": {
          "model_module": "@jupyter-widgets/base",
          "model_name": "LayoutModel",
          "model_module_version": "1.2.0",
          "state": {
            "_view_name": "LayoutView",
            "grid_template_rows": null,
            "right": null,
            "justify_content": null,
            "_view_module": "@jupyter-widgets/base",
            "overflow": null,
            "_model_module_version": "1.2.0",
            "_view_count": null,
            "flex_flow": null,
            "width": null,
            "min_width": null,
            "border": null,
            "align_items": null,
            "bottom": null,
            "_model_module": "@jupyter-widgets/base",
            "top": null,
            "grid_column": null,
            "overflow_y": null,
            "overflow_x": null,
            "grid_auto_flow": null,
            "grid_area": null,
            "grid_template_columns": null,
            "flex": null,
            "_model_name": "LayoutModel",
            "justify_items": null,
            "grid_row": null,
            "max_height": null,
            "align_content": null,
            "visibility": null,
            "align_self": null,
            "height": null,
            "min_height": null,
            "padding": null,
            "grid_auto_rows": null,
            "grid_gap": null,
            "max_width": null,
            "order": null,
            "_view_module_version": "1.2.0",
            "grid_template_areas": null,
            "object_position": null,
            "object_fit": null,
            "grid_auto_columns": null,
            "margin": null,
            "display": null,
            "left": null
          }
        }
      }
    }
  },
  "cells": [
    {
      "cell_type": "code",
      "metadata": {
        "id": "KBkpRgBCBS2_",
        "colab": {
          "base_uri": "https://localhost:8080/"
        },
        "outputId": "3df5b767-ee49-42ca-caec-c4373ff16376"
      },
      "source": [
        "!pip install -q aitextgen\n",
        "\n",
        "import logging\n",
        "logging.basicConfig(\n",
        "        format=\"%(asctime)s — %(levelname)s — %(name)s — %(message)s\",\n",
        "        datefmt=\"%m/%d/%Y %H:%M:%S\",\n",
        "        level=logging.INFO\n",
        "    )\n",
        "\n",
        "from aitextgen import aitextgen\n",
        "from aitextgen.colab import mount_gdrive, copy_file_from_gdrive\n",
        "from aitextgen.TokenDataset import TokenDataset, merge_datasets\n",
        "from aitextgen.utils import build_gpt2_config\n",
        "from aitextgen.tokenizers import train_tokenizer\n",
        "import torch\n",
        "import pandas as pd\n",
        "import numpy as np\n",
        "\n",
        "from xgboost import XGBRegressor\n",
        "from sklearn import metrics\n",
        "import scipy\n",
        "import pickle\n",
        "from pathlib import Path"
      ],
      "execution_count": null,
      "outputs": [
        {
          "output_type": "stream",
          "name": "stdout",
          "text": [
            "\u001b[K     |████████████████████████████████| 572 kB 5.8 MB/s \n",
            "\u001b[K     |████████████████████████████████| 3.4 MB 34.7 MB/s \n",
            "\u001b[K     |████████████████████████████████| 87 kB 6.6 MB/s \n",
            "\u001b[K     |████████████████████████████████| 525 kB 42.9 MB/s \n",
            "\u001b[K     |████████████████████████████████| 829 kB 35.4 MB/s \n",
            "\u001b[K     |████████████████████████████████| 132 kB 50.5 MB/s \n",
            "\u001b[K     |████████████████████████████████| 596 kB 45.6 MB/s \n",
            "\u001b[K     |████████████████████████████████| 332 kB 35.8 MB/s \n",
            "\u001b[K     |████████████████████████████████| 1.1 MB 40.9 MB/s \n",
            "\u001b[K     |████████████████████████████████| 895 kB 34.7 MB/s \n",
            "\u001b[K     |████████████████████████████████| 61 kB 485 kB/s \n",
            "\u001b[K     |████████████████████████████████| 3.3 MB 39.1 MB/s \n",
            "\u001b[K     |████████████████████████████████| 271 kB 52.6 MB/s \n",
            "\u001b[K     |████████████████████████████████| 192 kB 41.3 MB/s \n",
            "\u001b[K     |████████████████████████████████| 160 kB 50.8 MB/s \n",
            "\u001b[?25h  Building wheel for aitextgen (setup.py) ... \u001b[?25l\u001b[?25hdone\n",
            "  Building wheel for fire (setup.py) ... \u001b[?25l\u001b[?25hdone\n",
            "  Building wheel for future (setup.py) ... \u001b[?25l\u001b[?25hdone\n"
          ]
        }
      ]
    },
    {
      "cell_type": "code",
      "source": [
        "from google.colab import drive\n",
        "drive.mount('/content/drive')"
      ],
      "metadata": {
        "colab": {
          "base_uri": "https://localhost:8080/"
        },
        "id": "OfbDd3pktBsH",
        "outputId": "f239177c-aec3-4409-ef0f-408a318a04ad"
      },
      "execution_count": null,
      "outputs": [
        {
          "output_type": "stream",
          "name": "stdout",
          "text": [
            "Mounted at /content/drive\n"
          ]
        }
      ]
    },
    {
      "cell_type": "markdown",
      "source": [
        "**NEXT STEP** go to files to upload data"
      ],
      "metadata": {
        "id": "qMAi0bRk-OFo"
      }
    },
    {
      "cell_type": "markdown",
      "source": [
        "![step1-openFiles.png](data:image/png;base64,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)"
      ],
      "metadata": {
        "id": "Mpq50v2P9936"
      }
    },
    {
      "cell_type": "markdown",
      "source": [
        "**Upload data from the GeneGPT2 github repo at (GeneGPT2/data) by dragging it into the window**"
      ],
      "metadata": {
        "id": "LAVLP_H1-bHS"
      }
    },
    {
      "cell_type": "markdown",
      "source": [
        "![step2-uploadFiles.PNG](data:image/png;base64,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)"
      ],
      "metadata": {
        "id": "R5t9sLWZ-qpb"
      }
    },
    {
      "cell_type": "markdown",
      "source": [
        "**Run the rest of the cells**"
      ],
      "metadata": {
        "id": "IRYCxJUMChCd"
      }
    },
    {
      "cell_type": "code",
      "metadata": {
        "id": "6OFnPCLADfll"
      },
      "source": [
        "file_name = \"/content/trainValidCorpus.txt\""
      ],
      "execution_count": null,
      "outputs": []
    },
    {
      "cell_type": "code",
      "metadata": {
        "id": "5brMzdmzLom3"
      },
      "source": [
        "train_tokenizer(file_name)"
      ],
      "execution_count": null,
      "outputs": []
    },
    {
      "cell_type": "markdown",
      "source": [
        "**The configuration for the model is set in the cell below. The different hyperparameters tested are max_length, which is the context window size, and n_embd, which is the number of embeddings.**"
      ],
      "metadata": {
        "id": "eGsl7b2JAMZr"
      }
    },
    {
      "cell_type": "code",
      "metadata": {
        "id": "GfbexWtKMaQB",
        "colab": {
          "base_uri": "https://localhost:8080/"
        },
        "outputId": "1d4ba3ca-1f51-485a-faf1-5fadb7c368f7"
      },
      "source": [
        "config = build_gpt2_config(vocab_size=1000, max_length=64, dropout=0.0, n_embd=32, n_layer=8, n_head=8)\n",
        "config"
      ],
      "execution_count": null,
      "outputs": [
        {
          "output_type": "execute_result",
          "data": {
            "text/plain": [
              "GPT2Config {\n",
              "  \"activation_function\": \"gelu_new\",\n",
              "  \"attn_pdrop\": 0.0,\n",
              "  \"bos_token_id\": 0,\n",
              "  \"embd_pdrop\": 0.0,\n",
              "  \"eos_token_id\": 0,\n",
              "  \"initializer_range\": 0.02,\n",
              "  \"layer_norm_epsilon\": 1e-05,\n",
              "  \"model_type\": \"gpt2\",\n",
              "  \"n_ctx\": 64,\n",
              "  \"n_embd\": 32,\n",
              "  \"n_head\": 8,\n",
              "  \"n_inner\": null,\n",
              "  \"n_layer\": 8,\n",
              "  \"n_positions\": 64,\n",
              "  \"reorder_and_upcast_attn\": false,\n",
              "  \"resid_pdrop\": 0.0,\n",
              "  \"scale_attn_by_inverse_layer_idx\": false,\n",
              "  \"scale_attn_weights\": true,\n",
              "  \"summary_activation\": null,\n",
              "  \"summary_first_dropout\": 0.0,\n",
              "  \"summary_proj_to_labels\": true,\n",
              "  \"summary_type\": \"cls_index\",\n",
              "  \"summary_use_proj\": true,\n",
              "  \"transformers_version\": \"4.14.1\",\n",
              "  \"use_cache\": true,\n",
              "  \"vocab_size\": 1000\n",
              "}"
            ]
          },
          "metadata": {},
          "execution_count": 9
        }
      ]
    },
    {
      "cell_type": "code",
      "metadata": {
        "id": "AOfP_Rc9MvsZ",
        "colab": {
          "base_uri": "https://localhost:8080/"
        },
        "outputId": "0db9269c-6fa5-4f27-d009-8007e74eda70"
      },
      "source": [
        "ai = aitextgen(config=config,\n",
        "               tokenizer_file=\"aitextgen.tokenizer.json\",\n",
        "               to_gpu=True)"
      ],
      "execution_count": null,
      "outputs": [
        {
          "output_type": "stream",
          "name": "stderr",
          "text": [
            "12/16/2021 06:47:33 — INFO — aitextgen — Constructing model from provided config.\n",
            "12/16/2021 06:47:33 — INFO — aitextgen — GPT2 loaded with 0M parameters.\n",
            "12/16/2021 06:47:33 — INFO — aitextgen — Using a custom tokenizer.\n"
          ]
        }
      ]
    },
    {
      "cell_type": "code",
      "metadata": {
        "id": "aeXshJM-Cuaf",
        "colab": {
          "base_uri": "https://localhost:8080/",
          "height": 448,
          "referenced_widgets": [
            "a9e8e8979da44c96ab7fa3c8589b3f8d",
            "5126c411994645f5bf32bfd077468763",
            "574a459a09bf4a2bae1a29e023864f63",
            "e15d9095f94040289b69a52083ef9229",
            "ce40ca878c7848a186e36cf7260a7b5e",
            "e85f443a1a7c4c16a2d856b62912ea6e",
            "45cf9e185c8640e3954978c7fa365360",
            "ee47c189edc843a183a1e7b7b485a630",
            "d79fe06551be49279429eb429b62b22b",
            "1f4ee47036984fa7ae57cccacbd4849f",
            "9da5e195e77b44f1acac969192d7b235",
            "cae9d69377464b43bf726e2e7985c179",
            "00dcfe8563594f87a148cf978f4d7efa",
            "204584fb497147af842eab989bf583bb",
            "577b12c7f3cc46d88cf2bb55fbbc3781",
            "9b70c7a55e8f440483d2ae305ba4c6a5",
            "004d833a3647441aa3e15361c707f9ab",
            "0a9f3c1a0ae44bccb766c9fb0f6a4dff",
            "b6f96c05806b4be0bbbd7b7846a6f00a",
            "1dedf08486074f1c964ef5c35a550165",
            "a93ea166396f49d181ef7b730be4fdbc",
            "d6b3a4fc1ce94bf7933870a2e5291ab2"
          ]
        },
        "outputId": "f2ffd95b-4b92-4f4b-b47c-cdce0cb87c05"
      },
      "source": [
        "ai.train(file_name,\n",
        "         line_by_line=False,\n",
        "         from_cache=False,\n",
        "         num_steps=1000,\n",
        "         generate_every=1000,\n",
        "         save_every=1000,\n",
        "         save_gdrive=False,\n",
        "         learning_rate=1e-3,\n",
        "         batch_size=64,\n",
        "         )"
      ],
      "execution_count": null,
      "outputs": [
        {
          "output_type": "stream",
          "name": "stderr",
          "text": [
            "12/16/2021 06:47:49 — INFO — aitextgen — Loading text from /content/trainValidCorpus.txt with generation length of 64.\n"
          ]
        },
        {
          "output_type": "display_data",
          "data": {
            "application/vnd.jupyter.widget-view+json": {
              "model_id": "a9e8e8979da44c96ab7fa3c8589b3f8d",
              "version_minor": 0,
              "version_major": 2
            },
            "text/plain": [
              "  0%|          | 0/800 [00:00<?, ?it/s]"
            ]
          },
          "metadata": {}
        },
        {
          "output_type": "stream",
          "name": "stderr",
          "text": [
            "12/16/2021 06:47:49 — INFO — aitextgen.TokenDataset — Encoding 800 sets of tokens from /content/trainValidCorpus.txt.\n",
            "/usr/local/lib/python3.7/dist-packages/pytorch_lightning/trainer/connectors/callback_connector.py:148: LightningDeprecationWarning: Setting `Trainer(checkpoint_callback=False)` is deprecated in v1.5 and will be removed in v1.7. Please consider using `Trainer(enable_checkpointing=False)`.\n",
            "  f\"Setting `Trainer(checkpoint_callback={checkpoint_callback})` is deprecated in v1.5 and will \"\n",
            "/usr/local/lib/python3.7/dist-packages/pytorch_lightning/trainer/connectors/callback_connector.py:91: LightningDeprecationWarning: Setting `Trainer(progress_bar_refresh_rate=20)` is deprecated in v1.5 and will be removed in v1.7. Please pass `pytorch_lightning.callbacks.progress.TQDMProgressBar` with `refresh_rate` directly to the Trainer's `callbacks` argument instead. Or, to disable the progress bar pass `enable_progress_bar = False` to the Trainer.\n",
            "  f\"Setting `Trainer(progress_bar_refresh_rate={progress_bar_refresh_rate})` is deprecated in v1.5 and\"\n",
            "/usr/local/lib/python3.7/dist-packages/pytorch_lightning/trainer/connectors/callback_connector.py:168: LightningDeprecationWarning: Setting `Trainer(weights_summary=None)` is deprecated in v1.5 and will be removed in v1.7. Please set `Trainer(enable_model_summary=False)` instead.\n",
            "  \"Setting `Trainer(weights_summary=None)` is deprecated in v1.5 and will be removed\"\n",
            "12/16/2021 06:47:50 — INFO — pytorch_lightning.utilities.distributed — GPU available: True, used: True\n",
            "12/16/2021 06:47:50 — INFO — pytorch_lightning.utilities.distributed — TPU available: False, using: 0 TPU cores\n",
            "12/16/2021 06:47:50 — INFO — pytorch_lightning.utilities.distributed — IPU available: False, using: 0 IPUs\n",
            "12/16/2021 06:47:50 — INFO — pytorch_lightning.accelerators.gpu — LOCAL_RANK: 0 - CUDA_VISIBLE_DEVICES: [0]\n"
          ]
        },
        {
          "output_type": "display_data",
          "data": {
            "application/vnd.jupyter.widget-view+json": {
              "model_id": "cae9d69377464b43bf726e2e7985c179",
              "version_minor": 0,
              "version_major": 2
            },
            "text/plain": [
              "  0%|          | 0/1000 [00:00<?, ?it/s]"
            ]
          },
          "metadata": {}
        },
        {
          "output_type": "stream",
          "name": "stderr",
          "text": [
            "/usr/local/lib/python3.7/dist-packages/pytorch_lightning/trainer/trainer.py:1819: LightningDeprecationWarning: `trainer.progress_bar_dict` is deprecated in v1.5 and will be removed in v1.7. Use `ProgressBarBase.get_metrics` instead.\n",
            "  \"`trainer.progress_bar_dict` is deprecated in v1.5 and will be removed in v1.7.\"\n"
          ]
        },
        {
          "output_type": "stream",
          "name": "stdout",
          "text": [
            "\u001b[1m1,000 steps reached: saving model to /trained_model\u001b[0m\n",
            "\u001b[1m1,000 steps reached: generating sample texts.\u001b[0m\n"
          ]
        },
        {
          "output_type": "stream",
          "name": "stderr",
          "text": [
            "12/16/2021 06:49:28 — INFO — aitextgen — Saving trained model pytorch_model.bin to /trained_model\n"
          ]
        },
        {
          "output_type": "stream",
          "name": "stdout",
          "text": [
            "==========\n",
            " hhhhh hhhhh hhlhh hhlhh hhhhl hmhhm hhmhh hmhhh hhhhm hhhhm hhhhm hhhhh hhhlh hhmhm hhmhh hmmhh hlhhh hlhlm hlhmm hlhmh hmhhh hhhhh hlhmh hlhhm hlhhm hllhh hllmh hmlhm hmlhh hmlhh hlmhh hmhhh hhhhm hllhh hllhh hllhh hmmhh hlhhh hlmhh hhhhh hmhhh hhhhh hhmhh hlhhh hhhhh hhhhh hhhhh hhhhh hhhhh hhhhh hhhmh hhmhh hhhhh hhhhh hhhhh hhhhh hhhhh hhhhh hhhhh hhhhm hhhhh hhhhh hhhhh\n",
            "==========\n"
          ]
        }
      ]
    },
    {
      "cell_type": "code",
      "source": [
        "word_embeddings = ai.model.transformer.wte.weight\n",
        "position_embeddings = ai.model.transformer.wpe.weight"
      ],
      "metadata": {
        "id": "ESBxuVVkyJ_L"
      },
      "execution_count": null,
      "outputs": []
    },
    {
      "cell_type": "code",
      "source": [
        "all_prompts = []\n",
        "dataPaths = [\"C1Test.csv\", \"C1Train.csv\", \"C1Valid.csv\", \"C2Test.csv\", \"C2Train.csv\", \"C2Valid.csv\", \"DiffTrain.csv\", \"DiffValid.csv\", \"DiffTest.csv\"]\n",
        "for path in dataPaths:\n",
        "  all_prompts.append(pd.read_csv(\"/content/\" + path, delimiter='\\t', header=None))"
      ],
      "metadata": {
        "id": "ONrKfsyGUud9"
      },
      "execution_count": null,
      "outputs": []
    },
    {
      "cell_type": "code",
      "source": [
        "for i in range(len(all_prompts)):\n",
        "  embedded = []\n",
        "  for prompt in all_prompts[i][0]:\n",
        "    tokens = ai.tokenizer(text=prompt, return_tensors=\"pt\")[\"input_ids\"][0].numpy()[0:207]\n",
        "    w_embedding = []\n",
        "    for token in tokens:\n",
        "      w_embedding.append(word_embeddings[token].cpu().detach().numpy())\n",
        "    w_embedding = np.asarray(w_embedding).flatten()\n",
        "\n",
        "    \n",
        "    embedded.append(w_embedding)\n",
        "  embedded = np.asarray(embedded)\n",
        "\n",
        "  np.savetxt(\"/content/\" + dataPaths[i][:-4] + \"Embeddings.csv\", \n",
        "          embedded,\n",
        "          delimiter =\", \", \n",
        "          fmt ='% s')\n"
      ],
      "metadata": {
        "id": "6R3dUpqIuLEI"
      },
      "execution_count": null,
      "outputs": []
    },
    {
      "cell_type": "code",
      "source": [
        "types = [\"raw_c\", \"raw_d\", \"raw\"]\n",
        "for dataset_type in types:\n",
        "  # read base data\n",
        "  X_train, y_train, X_test, y_test = None, None, None, None\n",
        "  Xc_train, Xc_test = None, None\n",
        "  Xd_train, Xd_test = None, None\n",
        "\n",
        "  # Get labels (same across all datasets)\n",
        "  test_diff_df = pd.read_csv(\"/content/C12TestDiff.tsv\",\n",
        "                            delimiter='\\t', header=None)\n",
        "  train_diff_df = pd.read_csv(\n",
        "      \"/content/C12TrainDiff.tsv\", delimiter='\\t', header=None)\n",
        "  valid_diff_df = pd.read_csv(\n",
        "      \"/content/C12ValidDiff.tsv\", delimiter='\\t', header=None)\n",
        "\n",
        "  y_test = test_diff_df\n",
        "  y_train = pd.concat([train_diff_df, valid_diff_df])\n",
        "\n",
        "  # Get features\n",
        "  if dataset_type == \"raw_c\" or dataset_type == \"raw\":\n",
        "      c1_test_df = pd.read_csv(\"/content/C1TestEmbeddings.csv\", header=None)\n",
        "      c1_train_df = pd.read_csv(\"/content/C1TrainEmbeddings.csv\", header=None)\n",
        "      c1_valid_df = pd.read_csv(\"/content/C1ValidEmbeddings.csv\", header=None)\n",
        "\n",
        "      c2_test_df = pd.read_csv(\"/content/C2TestEmbeddings.csv\", header=None)\n",
        "      c2_train_df = pd.read_csv(\"/content/C2TrainEmbeddings.csv\", header=None)\n",
        "      c2_valid_df = pd.read_csv(\"/content/C2ValidEmbeddings.csv\", header=None)\n",
        "\n",
        "      c12_train_df = pd.concat([c1_train_df, c2_train_df], axis=1)\n",
        "      c12_valid_df = pd.concat([c1_valid_df, c2_valid_df], axis=1)\n",
        "\n",
        "      # Reset index prevents errors from combining Xd_train and Xc_train.\n",
        "      # Unless you specify drop=True, it creates a new column that stores indices\n",
        "      # We don't want this, because it essentially adds another feature that's just id\n",
        "      Xc_train = pd.concat([c12_train_df, c12_valid_df]).reset_index(drop=True)\n",
        "      Xc_test = pd.concat([c1_test_df, c2_test_df], axis=1)\n",
        "\n",
        "  if dataset_type == \"raw_d\" or dataset_type == \"raw\":\n",
        "      diff_train = pd.read_csv(\"/content/DiffTrainEmbeddings.csv\", header=None)\n",
        "      diff_valid = pd.read_csv(\"/content/DiffValidEmbeddings.csv\", header=None)\n",
        "\n",
        "      # Reset index prevents errors from combining Xd_train and Xc_train.\n",
        "      # Unless you specify drop=True, it creates a new column that stores indices\n",
        "      # We don't want this, because it essentially adds another feature that's just id\n",
        "      Xd_train = pd.concat([diff_train, diff_valid]).reset_index(drop=True)\n",
        "      Xd_test = pd.read_csv(\"/content/DiffTestEmbeddings.csv\", header=None)\n",
        "\n",
        "  if dataset_type == \"raw_c\":\n",
        "      X_train = Xc_train\n",
        "      X_test = Xc_test\n",
        "\n",
        "  if dataset_type == \"raw_d\":\n",
        "      X_train = Xd_train\n",
        "      X_test = Xd_test\n",
        "\n",
        "  if dataset_type == \"raw\":\n",
        "      # print(\"len\", len(Xc_train.columns), len(Xd_train.columns))\n",
        "      X_train = pd.concat([Xc_train, Xd_train], axis=1)\n",
        "      X_test = pd.concat([Xc_test, Xd_test], axis=1)\n",
        "\n",
        "  X_train.columns = [i for i in range(len(X_train.columns))]\n",
        "  y_train.columns = [i for i in range(len(y_train.columns))]\n",
        "  X_test.columns = [i for i in range(len(X_test.columns))]\n",
        "  y_test.columns = [i for i in range(len(y_test.columns))]\n",
        "\n",
        "  model = XGBRegressor(random_state=0)\n",
        "  model.fit(X_train, y_train)\n",
        "\n",
        "  score = model.score(X_test, y_test)\n",
        "\n",
        "  ypred = model.predict(X_test)\n",
        "\n",
        "  R, p = scipy.stats.pearsonr(np.squeeze(y_test), np.squeeze(ypred))\n",
        "  MSE = metrics.mean_squared_error(y_test, ypred)\n",
        "\n",
        "  print(\"Dataset results for type \", dataset_type)\n",
        "  print(\"XGBoost regressor score: \", score)\n",
        "  print(\"R:\", R)\n",
        "  print(\"p:\", p)\n",
        "  print(\"MSE:\", MSE)"
      ],
      "metadata": {
        "colab": {
          "base_uri": "https://localhost:8080/"
        },
        "id": "Zllaqttr2XNU",
        "outputId": "7865b348-24d5-4cde-f4a1-423fe9ce2bf7"
      },
      "execution_count": null,
      "outputs": [
        {
          "output_type": "stream",
          "name": "stdout",
          "text": [
            "[06:49:48] WARNING: /workspace/src/objective/regression_obj.cu:152: reg:linear is now deprecated in favor of reg:squarederror.\n",
            "Dataset results for type  raw_c\n",
            "XGBoost regressor score:  0.28201082850692405\n",
            "R: 0.5391511721771843\n",
            "p: 1.775568908517161e-16\n",
            "MSE: 4.968797381393002\n",
            "[06:50:27] WARNING: /workspace/src/objective/regression_obj.cu:152: reg:linear is now deprecated in favor of reg:squarederror.\n",
            "Dataset results for type  raw_d\n",
            "XGBoost regressor score:  0.24842965203177847\n",
            "R: 0.5079243168840775\n",
            "p: 1.629130480824839e-14\n",
            "MSE: 5.20119372991566\n",
            "[06:50:51] WARNING: /workspace/src/objective/regression_obj.cu:152: reg:linear is now deprecated in favor of reg:squarederror.\n",
            "Dataset results for type  raw\n",
            "XGBoost regressor score:  0.2895696611845281\n",
            "R: 0.5439136609038253\n",
            "p: 8.547554342330044e-17\n",
            "MSE: 4.916486971283664\n"
          ]
        }
      ]
    }
  ]
}